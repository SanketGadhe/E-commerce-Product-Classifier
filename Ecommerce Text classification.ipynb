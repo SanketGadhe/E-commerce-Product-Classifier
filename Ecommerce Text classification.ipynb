{
 "cells": [
  {
   "cell_type": "code",
   "execution_count": null,
   "id": "3150308d",
   "metadata": {},
   "outputs": [],
   "source": [
    "import pandas as pd\n",
    "data=pd.read_csv(\"https://raw.githubusercontent.com/codebasics/nlp-tutorials/main/12_tf_idf/Ecommerce_data.csv\")\n",
    "print(data.shape)\n",
    "data.head()"
   ]
  },
  {
   "cell_type": "code",
   "execution_count": null,
   "id": "2e0b61ca",
   "metadata": {},
   "outputs": [],
   "source": [
    "data.label.value_counts()"
   ]
  },
  {
   "cell_type": "code",
   "execution_count": null,
   "id": "174a9436",
   "metadata": {},
   "outputs": [],
   "source": [
    "data.describe()"
   ]
  },
  {
   "cell_type": "code",
   "execution_count": null,
   "id": "96feb1f8",
   "metadata": {},
   "outputs": [],
   "source": [
    "data['label_num']=data.label.map(\n",
    "{'Household':0,\n",
    " 'Electronics':1,\n",
    " 'Clothing & Accessories':2,\n",
    " 'Books':3\n",
    "})\n",
    "data"
   ]
  },
  {
   "cell_type": "code",
   "execution_count": null,
   "id": "4b4685aa",
   "metadata": {},
   "outputs": [],
   "source": [
    "from sklearn.model_selection import train_test_split as tts\n",
    "X_train,X_test,Y_train,Y_test=tts(data.Text,data.label_num,test_size=0.2,random_state=4010,stratify=data.label_num)\n"
   ]
  },
  {
   "cell_type": "code",
   "execution_count": null,
   "id": "609207ab",
   "metadata": {},
   "outputs": [],
   "source": [
    "X_train.shape, X_test.shape"
   ]
  },
  {
   "cell_type": "code",
   "execution_count": null,
   "id": "61a2c544",
   "metadata": {},
   "outputs": [],
   "source": [
    "Y_train.value_counts()"
   ]
  },
  {
   "cell_type": "code",
   "execution_count": null,
   "id": "586400a6",
   "metadata": {},
   "outputs": [],
   "source": [
    "from sklearn.pipeline import Pipeline \n",
    "from sklearn.feature_extraction.text import TfidfVectorizer as TFIDF\n",
    "from sklearn.neighbors import KNeighborsClassifier as KNN\n",
    "clf=Pipeline([\n",
    "('transformed',TFIDF()),\n",
    "('model',KNN())])\n",
    "clf.fit(X_train,Y_train)"
   ]
  },
  {
   "cell_type": "code",
   "execution_count": null,
   "id": "488d9f93",
   "metadata": {},
   "outputs": [],
   "source": [
    "Y_pred=clf.predict(X_test)\n",
    "from sklearn.metrics import classification_report as cr\n",
    "print(cr(Y_test,Y_pred))"
   ]
  },
  {
   "cell_type": "code",
   "execution_count": null,
   "id": "16a01ef5",
   "metadata": {},
   "outputs": [],
   "source": [
    "X_test[:5]"
   ]
  },
  {
   "cell_type": "code",
   "execution_count": null,
   "id": "53a83b23",
   "metadata": {},
   "outputs": [],
   "source": [
    "Y_test[:5]"
   ]
  },
  {
   "cell_type": "code",
   "execution_count": null,
   "id": "94d3eee8",
   "metadata": {},
   "outputs": [],
   "source": [
    "Y_pred[:5]"
   ]
  },
  {
   "cell_type": "code",
   "execution_count": null,
   "id": "8ec789c4",
   "metadata": {},
   "outputs": [],
   "source": [
    "from sklearn.pipeline import Pipeline \n",
    "from sklearn.feature_extraction.text import TfidfVectorizer as TFIDF\n",
    "from sklearn.naive_bayes import MultinomialNB as MB\n",
    "from sklearn.neighbors import KNeighborsClassifier as KNN\n",
    "clf=Pipeline([\n",
    "('transformed',TFIDF()),\n",
    "('model',MB())])\n",
    "clf.fit(X_train,Y_train)\n",
    "Y_pred=clf.predict(X_test)\n",
    "from sklearn.metrics import classification_report as cr\n",
    "print(cr(Y_test,Y_pred))"
   ]
  },
  {
   "cell_type": "code",
   "execution_count": null,
   "id": "bbbf45b4",
   "metadata": {},
   "outputs": [],
   "source": [
    "from sklearn.pipeline import Pipeline \n",
    "from sklearn.feature_extraction.text import TfidfVectorizer as TFIDF\n",
    "from sklearn.naive_bayes import MultinomialNB as MB\n",
    "from sklearn.ensemble import RandomForestClassifier as RFC\n",
    "from sklearn.neighbors import KNeighborsClassifier as KNN\n",
    "clf=Pipeline([\n",
    "('transformed',TFIDF()),\n",
    "('model',RFC())])\n",
    "clf.fit(X_train,Y_train)\n",
    "Y_pred=clf.predict(X_test)\n",
    "from sklearn.metrics import classification_report as cr\n",
    "print(cr(Y_test,Y_pred))"
   ]
  },
  {
   "cell_type": "code",
   "execution_count": null,
   "id": "26785eaf",
   "metadata": {},
   "outputs": [],
   "source": [
    "import spacy\n",
    "nlp = spacy.load(\"en_core_web_sm\") \n",
    "\n",
    "def preprocess(text):\n",
    "    # remove stop words and lemmatize the text\n",
    "    doc = nlp(text)\n",
    "    filtered_tokens = []\n",
    "    count=0\n",
    "    for token in doc:\n",
    "        if token.is_stop or token.is_punct:\n",
    "            continue\n",
    "        filtered_tokens.append(token.lemma_)\n",
    "    \n",
    "    return \" \".join(filtered_tokens) "
   ]
  },
  {
   "cell_type": "code",
   "execution_count": null,
   "id": "1a4d3365",
   "metadata": {},
   "outputs": [],
   "source": [
    "data['preprocessed_txt']=data.Text.apply(preprocess)"
   ]
  },
  {
   "cell_type": "code",
   "execution_count": null,
   "id": "47abbb7c",
   "metadata": {},
   "outputs": [],
   "source": [
    "data.head()"
   ]
  },
  {
   "cell_type": "code",
   "execution_count": null,
   "id": "9716af50",
   "metadata": {},
   "outputs": [],
   "source": [
    "data.preprocessed_txt[:2]"
   ]
  },
  {
   "cell_type": "code",
   "execution_count": null,
   "id": "b51b960b",
   "metadata": {},
   "outputs": [],
   "source": [
    "data.Text[:2]"
   ]
  },
  {
   "cell_type": "code",
   "execution_count": null,
   "id": "ffda5ac1",
   "metadata": {},
   "outputs": [],
   "source": [
    "from sklearn.model_selection import train_test_split as tts\n",
    "X_train,X_test,Y_train,Y_test=tts(data.preprocessed_txt,data.label_num,test_size=0.2,random_state=4010,stratify=data.label_num)\n"
   ]
  },
  {
   "cell_type": "code",
   "execution_count": null,
   "id": "00c333f6",
   "metadata": {},
   "outputs": [],
   "source": [
    "from sklearn.pipeline import Pipeline \n",
    "from sklearn.feature_extraction.text import TfidfVectorizer as TFIDF\n",
    "from sklearn.naive_bayes import MultinomialNB as MB\n",
    "from sklearn.ensemble import RandomForestClassifier as RFC\n",
    "from sklearn.neighbors import KNeighborsClassifier as KNN\n",
    "clf=Pipeline([\n",
    "('transformed',TFIDF()),\n",
    "('model',RFC())])\n",
    "clf.fit(X_train,Y_train)\n",
    "Y_pred=clf.predict(X_test)\n",
    "from sklearn.metrics import classification_report as cr\n",
    "print(cr(Y_test,Y_pred))"
   ]
  },
  {
   "cell_type": "code",
   "execution_count": null,
   "id": "a9382fd0",
   "metadata": {},
   "outputs": [],
   "source": [
    "print(\"Enter the description to check its type:\")\n",
    "user_input=input()"
   ]
  },
  {
   "cell_type": "code",
   "execution_count": null,
   "id": "aa3a3e03",
   "metadata": {},
   "outputs": [],
   "source": [
    "answer=clf.prdict(user_input)\n",
    "if answer==0:\n",
    "    print('Household')\n",
    "else if answer==1:\n",
    "    print('Electronics')\n",
    "else if answer==2:\n",
    "    print('Clothing & Accessories')\n",
    "else:\n",
    "    print('Book')"
   ]
  },
  {
   "cell_type": "code",
   "execution_count": null,
   "id": "c2f4d43a",
   "metadata": {},
   "outputs": [],
   "source": []
  }
 ],
 "metadata": {
  "kernelspec": {
   "display_name": "Python 3 (ipykernel)",
   "language": "python",
   "name": "python3"
  },
  "language_info": {
   "codemirror_mode": {
    "name": "ipython",
    "version": 3
   },
   "file_extension": ".py",
   "mimetype": "text/x-python",
   "name": "python",
   "nbconvert_exporter": "python",
   "pygments_lexer": "ipython3",
   "version": "3.10.4"
  }
 },
 "nbformat": 4,
 "nbformat_minor": 5
}
